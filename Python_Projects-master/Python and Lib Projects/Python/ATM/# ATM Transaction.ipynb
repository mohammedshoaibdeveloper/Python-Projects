{
 "cells": [
  {
   "cell_type": "markdown",
   "metadata": {},
   "source": [
    "# ATM Transaction"
   ]
  },
  {
   "cell_type": "code",
   "execution_count": 18,
   "metadata": {},
   "outputs": [
    {
     "name": "stdout",
     "output_type": "stream",
     "text": [
      "Enter Your Account balance  :20000\n",
      "How many amount do you want to transation : 500\n",
      "Thanks You For Transaction\n",
      "You Have done transaction amount :  500\n",
      "Your Current Balance is : 19500\n"
     ]
    }
   ],
   "source": [
    "amount=int(input('Enter Your Account balance  :'))\n",
    "\n",
    "transaction=int(input('How many amount do you want to transation : '))\n",
    "if transaction>amount:\n",
    "    print(\"Sorry ! Your Amount is high than your Current Balance !\")\n",
    "elif (transaction<=500) or (transaction<=50000):\n",
    "    Remain_Balance=amount-transaction\n",
    "    Amount_Transaction=transaction\n",
    "    print(\"Thanks You For Transaction\")\n",
    "    print(f\"You Have done transaction amount :  {Amount_Transaction}\\nYour Current Balance is : {Remain_Balance}\")\n",
    "\n",
    "    \n",
    "\n"
   ]
  },
  {
   "cell_type": "code",
   "execution_count": null,
   "metadata": {},
   "outputs": [],
   "source": []
  }
 ],
 "metadata": {
  "kernelspec": {
   "display_name": "Python 3",
   "language": "python",
   "name": "python3"
  },
  "language_info": {
   "codemirror_mode": {
    "name": "ipython",
    "version": 3
   },
   "file_extension": ".py",
   "mimetype": "text/x-python",
   "name": "python",
   "nbconvert_exporter": "python",
   "pygments_lexer": "ipython3",
   "version": "3.7.3"
  }
 },
 "nbformat": 4,
 "nbformat_minor": 2
}
