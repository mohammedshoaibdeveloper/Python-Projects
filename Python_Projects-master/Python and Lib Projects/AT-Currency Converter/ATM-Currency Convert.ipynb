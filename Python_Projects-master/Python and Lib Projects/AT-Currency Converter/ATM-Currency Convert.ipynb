{
 "cells": [
  {
   "cell_type": "markdown",
   "metadata": {},
   "source": [
    "# ATM Transaction"
   ]
  },
  {
   "cell_type": "code",
   "execution_count": 33,
   "metadata": {},
   "outputs": [
    {
     "name": "stdout",
     "output_type": "stream",
     "text": [
      "Enter a an amount : 1500\n",
      "There are 1 notes of 1000 in 1500\n",
      "There are 1 notes of 500 in 1500\n",
      "There are 0 notes of 100 in 1500\n",
      "Thanks For Transaction\n"
     ]
    }
   ],
   "source": [
    "amount=int(input(\"Enter a an amount : \"))\n",
    "if (amount>=500) and (amount<=25000):\n",
    "    if (amount==500):\n",
    "        notes_500=amount//500\n",
    "        print(f'There are {notes_500} notes of in {amount}')\n",
    "        \n",
    "    elif amount >500 and amount <=900:\n",
    "        notes_500=amount//500\n",
    "        print(f'There are {notes_500} notes of 500 in {amount}')\n",
    "        \n",
    "        notes_100_rem=amount%500\n",
    "        notes_100=notes_100_rem//100\n",
    "        \n",
    "        print(f'There are {notes_100} notes of 100 in {amount}')\n",
    "        \n",
    "    elif amount >=1000 and amount <=25000:\n",
    "        \n",
    "        notes_1000=amount//1000\n",
    "        print(f\"There are {notes_1000} notes of 1000 in {amount}\")\n",
    "        \n",
    "        if notes_100%1000=\n",
    "        \n",
    "        \n",
    "\n",
    "        notes_500_rem=amount%1000\n",
    "        notes_500=notes_500_rem//500\n",
    "        print(f\"There are {notes_500} notes of 500 in {amount}\")\n",
    "        \n",
    "        \n",
    "        notes_100_rem=amount%500\n",
    "        notes_100=notes_100_rem//100\n",
    "        print(f\"There are {notes_100} notes of 100 in {amount}\")\n",
    "        print(\"Thanks For Transaction\")\n",
    "    \n",
    "else:\n",
    "    print('Sorry ! Invalid Amount ')\n",
    "\n",
    "        \n",
    "        \n",
    "        \n",
    "        \n",
    "        \n",
    "        \n",
    "        \n",
    "        \n",
    "        \n",
    "        \n",
    "        \n",
    "        \n",
    "        \n",
    "        \n",
    "        \n",
    "        \n",
    "        \n",
    "        \n",
    "        \n",
    "        \n",
    "        \n",
    "        \n",
    "  \n",
    "        \n",
    "        \n",
    "        \n",
    "        \n",
    "    \n",
    "        \n",
    "        \n"
   ]
  },
  {
   "cell_type": "code",
   "execution_count": null,
   "metadata": {},
   "outputs": [],
   "source": []
  },
  {
   "cell_type": "code",
   "execution_count": null,
   "metadata": {},
   "outputs": [],
   "source": []
  },
  {
   "cell_type": "code",
   "execution_count": null,
   "metadata": {},
   "outputs": [],
   "source": []
  },
  {
   "cell_type": "code",
   "execution_count": null,
   "metadata": {},
   "outputs": [],
   "source": []
  },
  {
   "cell_type": "code",
   "execution_count": null,
   "metadata": {},
   "outputs": [],
   "source": []
  },
  {
   "cell_type": "code",
   "execution_count": null,
   "metadata": {},
   "outputs": [],
   "source": []
  },
  {
   "cell_type": "code",
   "execution_count": null,
   "metadata": {},
   "outputs": [],
   "source": []
  }
 ],
 "metadata": {
  "kernelspec": {
   "display_name": "Python 3",
   "language": "python",
   "name": "python3"
  },
  "language_info": {
   "codemirror_mode": {
    "name": "ipython",
    "version": 3
   },
   "file_extension": ".py",
   "mimetype": "text/x-python",
   "name": "python",
   "nbconvert_exporter": "python",
   "pygments_lexer": "ipython3",
   "version": "3.7.3"
  }
 },
 "nbformat": 4,
 "nbformat_minor": 2
}
